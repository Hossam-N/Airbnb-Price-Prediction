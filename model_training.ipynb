{
  "cells": [
    {
      "cell_type": "markdown",
      "metadata": {
        "id": "SmIKVtx9rk3c"
      },
      "source": [
        "**Imports**"
      ]
    },
    {
      "cell_type": "code",
      "execution_count": 2,
      "metadata": {
        "id": "K3mljtULfYAI"
      },
      "outputs": [],
      "source": [
        "import re\n",
        "import numpy as np\n",
        "import pandas as pd\n",
        "import xgboost as xgb\n",
        "from scipy import stats\n",
        "from pyspark.sql import SparkSession\n",
        "from pyspark.sql.functions import mean\n",
        "from sklearn import metrics\n",
        "from sklearn.preprocessing import LabelEncoder\n",
        "from sklearn.linear_model import LinearRegression, Ridge\n",
        "from sklearn.model_selection import train_test_split, cross_val_score, KFold\n",
        "from sklearn.ensemble import RandomForestRegressor, GradientBoostingRegressor\n",
        "from sklearn.svm import SVR\n",
        "from xgboost import XGBRegressor"
      ]
    },
    {
      "cell_type": "code",
      "execution_count": 3,
      "metadata": {
        "id": "JUXSCWENNhLQ"
      },
      "outputs": [
        {
          "name": "stdout",
          "output_type": "stream",
          "text": [
            "Null counts before filling:\n",
            "beds: 377\n",
            "bedrooms: 391\n",
            "bathrooms: 202\n",
            "review_scores_rating: 16266\n",
            "\n",
            "Null counts after filling:\n",
            "beds: 0\n",
            "bedrooms: 0\n",
            "bathrooms: 0\n",
            "review_scores_rating: 0\n"
          ]
        }
      ],
      "source": [
        "# filling null values using spark\n",
        "from pyspark.sql import SparkSession\n",
        "from pyspark.sql.functions import mean, col\n",
        "\n",
        "# Initialize SparkSession\n",
        "spark = SparkSession.builder \\\n",
        "    .appName(\"Fill Missing Values\") \\\n",
        "    .getOrCreate()\n",
        "\n",
        "# Read DataFrames\n",
        "df = spark.read.csv(\"./data/train_for_spark.csv\", inferSchema=True, header=True)\n",
        "#df_test = spark.read.csv(\"test_set.csv\", inferSchema=True, header=True)\n",
        "\n",
        "# Calculate mean of 'review_scores_rating' for both datasets\n",
        "mean_rating = df.select(mean('review_scores_rating')).collect()[0][0]\n",
        "\n",
        "# Count number of null cells in specific columns before filling\n",
        "null_counts_before = {col_name: df.filter(col(col_name).isNull()).count() for col_name in ['beds', 'bedrooms', 'bathrooms', 'review_scores_rating']}\n",
        "\n",
        "# Fill null values in multiple columns with default values\n",
        "columns_to_fill = ['beds', 'bedrooms', 'bathrooms']\n",
        "fill_values = {col: 1 for col in columns_to_fill}\n",
        "fill_values['review_scores_rating'] = mean_rating\n",
        "\n",
        "df = df.na.fill(fill_values)\n",
        "#df_test = df_test.na.fill(fill_values)\n",
        "\n",
        "# Count number of null cells in specific columns after filling\n",
        "null_counts_after = {col_name: df.filter(col(col_name).isNull()).count() for col_name in ['beds', 'bedrooms', 'bathrooms', 'review_scores_rating']}\n",
        "\n",
        "# Save DataFrames as CSV\n",
        "# df.write.csv(\"/content/training_set_final.csv\", header=True)\n",
        "#df_test.write.csv(\"/content/test_set_final.csv\", header=True)\n",
        "\n",
        "# Stop SparkSession\n",
        "spark.stop()\n",
        "\n",
        "# Display null counts before and after filling\n",
        "print(\"Null counts before filling:\")\n",
        "for col_name, count in null_counts_before.items():\n",
        "    print(f\"{col_name}: {count}\")\n",
        "\n",
        "print(\"\\nNull counts after filling:\")\n",
        "for col_name, count in null_counts_after.items():\n",
        "    print(f\"{col_name}: {count}\")\n"
      ]
    },
    {
      "cell_type": "markdown",
      "metadata": {
        "id": "dlMNntlvNnhO"
      },
      "source": []
    },
    {
      "cell_type": "markdown",
      "metadata": {
        "id": "sIlp2rM1kHCt"
      },
      "source": [
        "# **Data Preprocessing**"
      ]
    },
    {
      "cell_type": "code",
      "execution_count": null,
      "metadata": {
        "id": "J1oWL7q5fYAK"
      },
      "outputs": [],
      "source": [
        "pd.set_option('display.max_columns', None)\n",
        "df = pd.read_csv(\"train.csv\")\n",
        "df_test = pd.read_csv(\"test.csv\")"
      ]
    },
    {
      "cell_type": "code",
      "execution_count": 4,
      "metadata": {
        "id": "tO3CdTmG4qsi"
      },
      "outputs": [],
      "source": [
        "# Creating new columns for attributes from amenities column\n",
        "def extract_amenities(df):\n",
        "  amenities_to_check = [\"Wireless Internet\", \"Kitchen\", \"Heating\", \"Essentials\", \"Smoke detector\", \"Air conditioning\", \"TV\"]\n",
        "\n",
        "  # Loop through each amenity\n",
        "  for amenity in amenities_to_check:\n",
        "      boolean_column_name = amenity.replace(\" \", \"_\").lower()  # Convert amenity name to lowercase and replace spaces with underscores\n",
        "      boolean_values = []  # List to store boolean values for the current amenity\n",
        "\n",
        "      # Loop through each row in the DataFrame\n",
        "      for amenities in df.amenities:\n",
        "          amen = re.sub(r'(\\\"|\\{|\\})', '', amenities).split(',')\n",
        "          amenity_present = False  # Initialize as False for the current row\n",
        "\n",
        "          # Check if the current amenity is present in the amenities list for the current row\n",
        "          for a in amen:\n",
        "              if amenity in a:\n",
        "                  amenity_present = True\n",
        "                  break  # No need to continue searching if found\n",
        "\n",
        "          # Append True or False to the list based on whether the amenity is present or not\n",
        "          boolean_values.append(amenity_present)\n",
        "\n",
        "      # Assign the boolean values list to the new column in the DataFrame\n",
        "      df[boolean_column_name] = boolean_values\n",
        "\n",
        "  # Print value counts for each boolean column\n",
        "  for amenity in amenities_to_check:\n",
        "      boolean_column_name = amenity.replace(\" \", \"_\").lower()\n",
        "      print(df[boolean_column_name].value_counts())\n",
        "      print()\n",
        "\n"
      ]
    },
    {
      "cell_type": "code",
      "execution_count": null,
      "metadata": {
        "colab": {
          "base_uri": "https://localhost:8080/"
        },
        "id": "DeGl2NX76J45",
        "outputId": "a5866d3d-3a6d-49c4-b682-055d7b19408b"
      },
      "outputs": [
        {
          "name": "stdout",
          "output_type": "stream",
          "text": [
            "wireless_internet\n",
            "True     71265\n",
            "False     2846\n",
            "Name: count, dtype: int64\n",
            "\n",
            "kitchen\n",
            "True     67526\n",
            "False     6585\n",
            "Name: count, dtype: int64\n",
            "\n",
            "heating\n",
            "True     67073\n",
            "False     7038\n",
            "Name: count, dtype: int64\n",
            "\n",
            "essentials\n",
            "True     64005\n",
            "False    10106\n",
            "Name: count, dtype: int64\n",
            "\n",
            "smoke_detector\n",
            "True     61727\n",
            "False    12384\n",
            "Name: count, dtype: int64\n",
            "\n",
            "air_conditioning\n",
            "True     55210\n",
            "False    18901\n",
            "Name: count, dtype: int64\n",
            "\n",
            "tv\n",
            "True     53656\n",
            "False    20455\n",
            "Name: count, dtype: int64\n",
            "\n",
            "wireless_internet\n",
            "True     24432\n",
            "False     1026\n",
            "Name: count, dtype: int64\n",
            "\n",
            "kitchen\n",
            "True     23161\n",
            "False     2297\n",
            "Name: count, dtype: int64\n",
            "\n",
            "heating\n",
            "True     22978\n",
            "False     2480\n",
            "Name: count, dtype: int64\n",
            "\n",
            "essentials\n",
            "True     21915\n",
            "False     3543\n",
            "Name: count, dtype: int64\n",
            "\n",
            "smoke_detector\n",
            "True     21134\n",
            "False     4324\n",
            "Name: count, dtype: int64\n",
            "\n",
            "air_conditioning\n",
            "True     18851\n",
            "False     6607\n",
            "Name: count, dtype: int64\n",
            "\n",
            "tv\n",
            "True     18495\n",
            "False     6963\n",
            "Name: count, dtype: int64\n",
            "\n"
          ]
        }
      ],
      "source": [
        "extract_amenities(df)\n",
        "extract_amenities(df_test)"
      ]
    },
    {
      "cell_type": "code",
      "execution_count": null,
      "metadata": {
        "id": "p1sfbygOpEp3"
      },
      "outputs": [],
      "source": [
        "# Adjust values of review_scores_rating to decimal instead of percentage to prepare for model training\n",
        "df['review_scores_rating'] = df['review_scores_rating'] / 100\n",
        "df_test['review_scores_rating'] = df_test['review_scores_rating'] / 100"
      ]
    },
    {
      "cell_type": "code",
      "execution_count": null,
      "metadata": {
        "id": "NBcg3CFE3eb0"
      },
      "outputs": [],
      "source": [
        "# Trial one of deciding features to drop\n",
        "#merged_df.drop(columns=[\"id\", \"amenities\", \"description\", \"cleaning_fee\", \"city\", \"first_review\", \"host_has_profile_pic\", \"host_identity_verified\", \"host_response_rate\", \"host_since\", \"instant_bookable\", \"last_review\", \"latitude\", \"longitude\", \"name\", \"number_of_reviews\", \"review_scores_rating\", \"thumbnail_url\", \"zipcode\", \"neighbourhood\"], inplace=True)"
      ]
    },
    {
      "cell_type": "markdown",
      "metadata": {
        "id": "riMKvrbc_nHO"
      },
      "source": [
        "![image.png](data:image/png;base64,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)"
      ]
    },
    {
      "cell_type": "code",
      "execution_count": null,
      "metadata": {
        "id": "pSCXVOpR339T"
      },
      "outputs": [],
      "source": [
        "# Trial two of deciding features to two (added city and cleaning fee features)\n",
        "# df.drop(columns=[\"id\", \"amenities\", \"description\", \"first_review\", \"host_has_profile_pic\", \"host_identity_verified\", \"host_response_rate\", \"host_since\", \"instant_bookable\", \"last_review\", \"latitude\", \"longitude\", \"name\", \"number_of_reviews\", \"review_scores_rating\", \"thumbnail_url\", \"zipcode\", \"neighbourhood\"], inplace=True)"
      ]
    },
    {
      "cell_type": "markdown",
      "metadata": {
        "id": "Lx6R-n30AQbw"
      },
      "source": [
        "![image.png](data:image/png;base64,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)"
      ]
    },
    {
      "cell_type": "code",
      "execution_count": null,
      "metadata": {
        "id": "MpPiYcfJ5RRa"
      },
      "outputs": [],
      "source": [
        "# Dropping out unecessary columns ( Final descision on features to drop) (added review scores rating and number of reviews)\n",
        "df.drop(columns=[\"id\", \"amenities\", \"description\", \"first_review\", \"host_has_profile_pic\", \"host_identity_verified\", \"host_response_rate\", \"host_since\", \"last_review\", \"latitude\", \"longitude\", \"name\",\"thumbnail_url\", \"zipcode\", \"neighbourhood\"], inplace=True)\n",
        "df_test.drop(columns=[\"id\", \"amenities\", \"description\", \"first_review\", \"host_has_profile_pic\", \"host_identity_verified\", \"host_response_rate\", \"host_since\", \"last_review\", \"latitude\", \"longitude\", \"name\",\"thumbnail_url\", \"zipcode\", \"neighbourhood\"], inplace=True)"
      ]
    },
    {
      "cell_type": "markdown",
      "metadata": {
        "id": "gHSzPyTcA8W7"
      },
      "source": [
        "![image.png](data:image/png;base64,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)"
      ]
    },
    {
      "cell_type": "code",
      "execution_count": null,
      "metadata": {
        "colab": {
          "base_uri": "https://localhost:8080/"
        },
        "id": "taQyQ4JGjSMM",
        "outputId": "01286d04-19b8-44dc-f396-9a8ebe14b383"
      },
      "outputs": [
        {
          "name": "stdout",
          "output_type": "stream",
          "text": [
            "<class 'pandas.core.frame.DataFrame'>\n",
            "RangeIndex: 74111 entries, 0 to 74110\n",
            "Data columns (total 21 columns):\n",
            " #   Column                Non-Null Count  Dtype  \n",
            "---  ------                --------------  -----  \n",
            " 0   log_price             74111 non-null  float64\n",
            " 1   property_type         74111 non-null  object \n",
            " 2   room_type             74111 non-null  object \n",
            " 3   accommodates          74111 non-null  int64  \n",
            " 4   bathrooms             73911 non-null  float64\n",
            " 5   bed_type              74111 non-null  object \n",
            " 6   cancellation_policy   74111 non-null  object \n",
            " 7   cleaning_fee          74111 non-null  bool   \n",
            " 8   city                  74111 non-null  object \n",
            " 9   instant_bookable      74111 non-null  object \n",
            " 10  number_of_reviews     74111 non-null  int64  \n",
            " 11  review_scores_rating  57389 non-null  float64\n",
            " 12  bedrooms              74020 non-null  float64\n",
            " 13  beds                  73980 non-null  float64\n",
            " 14  wireless_internet     74111 non-null  bool   \n",
            " 15  kitchen               74111 non-null  bool   \n",
            " 16  heating               74111 non-null  bool   \n",
            " 17  essentials            74111 non-null  bool   \n",
            " 18  smoke_detector        74111 non-null  bool   \n",
            " 19  air_conditioning      74111 non-null  bool   \n",
            " 20  tv                    74111 non-null  bool   \n",
            "dtypes: bool(8), float64(5), int64(2), object(6)\n",
            "memory usage: 7.9+ MB\n",
            "None\n"
          ]
        }
      ],
      "source": [
        "# Checking if there is any null data before training to eleminate them\n",
        "print(df.info())"
      ]
    },
    {
      "cell_type": "code",
      "execution_count": null,
      "metadata": {
        "colab": {
          "base_uri": "https://localhost:8080/"
        },
        "id": "X68Gv4YcfYAM",
        "outputId": "178309a8-689f-40c9-cf63-1a61948a7c2b"
      },
      "outputs": [],
      "source": [
        "# Filling in Null values in columns\n",
        "df['beds'] = df['beds'].fillna(1)\n",
        "df['bedrooms'] = df['bedrooms'].fillna(1)\n",
        "df['bathrooms'] = df['bathrooms'].fillna(1)\n",
        "df['review_scores_rating'] = df['review_scores_rating'].fillna(df['review_scores_rating'].mean())\n",
        "\n",
        "df_test['beds'] = df_test['beds'].fillna(1)\n",
        "df_test['bedrooms'] = df_test['bedrooms'].fillna(1)\n",
        "df_test['bathrooms'] = df_test['bathrooms'].fillna(1)\n",
        "df_test['review_scores_rating'] = df_test['review_scores_rating'].fillna(df_test['review_scores_rating'].mean())\n",
        "\n",
        "df.info()"
      ]
    },
    {
      "cell_type": "code",
      "execution_count": null,
      "metadata": {
        "colab": {
          "base_uri": "https://localhost:8080/",
          "height": 226
        },
        "id": "dOJyASuRfYAN",
        "outputId": "68489650-33c5-41e1-9326-08056d981df4"
      },
      "outputs": [
        {
          "data": {
            "application/vnd.google.colaboratory.intrinsic+json": {
              "type": "dataframe",
              "variable_name": "df_encoded"
            },
            "text/html": [
              "\n",
              "  <div id=\"df-1371ad1e-a8bd-434b-bf94-966c7b3d8c41\" class=\"colab-df-container\">\n",
              "    <div>\n",
              "<style scoped>\n",
              "    .dataframe tbody tr th:only-of-type {\n",
              "        vertical-align: middle;\n",
              "    }\n",
              "\n",
              "    .dataframe tbody tr th {\n",
              "        vertical-align: top;\n",
              "    }\n",
              "\n",
              "    .dataframe thead th {\n",
              "        text-align: right;\n",
              "    }\n",
              "</style>\n",
              "<table border=\"1\" class=\"dataframe\">\n",
              "  <thead>\n",
              "    <tr style=\"text-align: right;\">\n",
              "      <th></th>\n",
              "      <th>log_price</th>\n",
              "      <th>property_type</th>\n",
              "      <th>room_type</th>\n",
              "      <th>accommodates</th>\n",
              "      <th>bathrooms</th>\n",
              "      <th>bed_type</th>\n",
              "      <th>cancellation_policy</th>\n",
              "      <th>cleaning_fee</th>\n",
              "      <th>city</th>\n",
              "      <th>instant_bookable</th>\n",
              "      <th>number_of_reviews</th>\n",
              "      <th>review_scores_rating</th>\n",
              "      <th>bedrooms</th>\n",
              "      <th>beds</th>\n",
              "      <th>wireless_internet</th>\n",
              "      <th>kitchen</th>\n",
              "      <th>heating</th>\n",
              "      <th>essentials</th>\n",
              "      <th>smoke_detector</th>\n",
              "      <th>air_conditioning</th>\n",
              "      <th>tv</th>\n",
              "    </tr>\n",
              "  </thead>\n",
              "  <tbody>\n",
              "    <tr>\n",
              "      <th>0</th>\n",
              "      <td>5.010635</td>\n",
              "      <td>0</td>\n",
              "      <td>0</td>\n",
              "      <td>3</td>\n",
              "      <td>1.0</td>\n",
              "      <td>4</td>\n",
              "      <td>2</td>\n",
              "      <td>1</td>\n",
              "      <td>4</td>\n",
              "      <td>0</td>\n",
              "      <td>2</td>\n",
              "      <td>1.000000</td>\n",
              "      <td>1.0</td>\n",
              "      <td>1.0</td>\n",
              "      <td>1</td>\n",
              "      <td>1</td>\n",
              "      <td>1</td>\n",
              "      <td>1</td>\n",
              "      <td>0</td>\n",
              "      <td>1</td>\n",
              "      <td>0</td>\n",
              "    </tr>\n",
              "    <tr>\n",
              "      <th>1</th>\n",
              "      <td>5.129899</td>\n",
              "      <td>0</td>\n",
              "      <td>0</td>\n",
              "      <td>7</td>\n",
              "      <td>1.0</td>\n",
              "      <td>4</td>\n",
              "      <td>2</td>\n",
              "      <td>1</td>\n",
              "      <td>4</td>\n",
              "      <td>1</td>\n",
              "      <td>6</td>\n",
              "      <td>0.930000</td>\n",
              "      <td>3.0</td>\n",
              "      <td>3.0</td>\n",
              "      <td>1</td>\n",
              "      <td>1</td>\n",
              "      <td>1</td>\n",
              "      <td>1</td>\n",
              "      <td>1</td>\n",
              "      <td>1</td>\n",
              "      <td>0</td>\n",
              "    </tr>\n",
              "    <tr>\n",
              "      <th>2</th>\n",
              "      <td>4.976734</td>\n",
              "      <td>0</td>\n",
              "      <td>0</td>\n",
              "      <td>5</td>\n",
              "      <td>1.0</td>\n",
              "      <td>4</td>\n",
              "      <td>1</td>\n",
              "      <td>1</td>\n",
              "      <td>4</td>\n",
              "      <td>1</td>\n",
              "      <td>10</td>\n",
              "      <td>0.920000</td>\n",
              "      <td>1.0</td>\n",
              "      <td>3.0</td>\n",
              "      <td>1</td>\n",
              "      <td>1</td>\n",
              "      <td>1</td>\n",
              "      <td>1</td>\n",
              "      <td>1</td>\n",
              "      <td>1</td>\n",
              "      <td>1</td>\n",
              "    </tr>\n",
              "    <tr>\n",
              "      <th>3</th>\n",
              "      <td>6.620073</td>\n",
              "      <td>17</td>\n",
              "      <td>0</td>\n",
              "      <td>4</td>\n",
              "      <td>1.0</td>\n",
              "      <td>4</td>\n",
              "      <td>0</td>\n",
              "      <td>1</td>\n",
              "      <td>5</td>\n",
              "      <td>0</td>\n",
              "      <td>0</td>\n",
              "      <td>0.940674</td>\n",
              "      <td>2.0</td>\n",
              "      <td>2.0</td>\n",
              "      <td>1</td>\n",
              "      <td>1</td>\n",
              "      <td>1</td>\n",
              "      <td>1</td>\n",
              "      <td>1</td>\n",
              "      <td>0</td>\n",
              "      <td>1</td>\n",
              "    </tr>\n",
              "    <tr>\n",
              "      <th>4</th>\n",
              "      <td>4.744932</td>\n",
              "      <td>0</td>\n",
              "      <td>0</td>\n",
              "      <td>2</td>\n",
              "      <td>1.0</td>\n",
              "      <td>4</td>\n",
              "      <td>1</td>\n",
              "      <td>1</td>\n",
              "      <td>2</td>\n",
              "      <td>1</td>\n",
              "      <td>4</td>\n",
              "      <td>0.400000</td>\n",
              "      <td>0.0</td>\n",
              "      <td>1.0</td>\n",
              "      <td>1</td>\n",
              "      <td>1</td>\n",
              "      <td>1</td>\n",
              "      <td>1</td>\n",
              "      <td>1</td>\n",
              "      <td>1</td>\n",
              "      <td>1</td>\n",
              "    </tr>\n",
              "  </tbody>\n",
              "</table>\n",
              "</div>\n",
              "    <div class=\"colab-df-buttons\">\n",
              "\n",
              "  <div class=\"colab-df-container\">\n",
              "    <button class=\"colab-df-convert\" onclick=\"convertToInteractive('df-1371ad1e-a8bd-434b-bf94-966c7b3d8c41')\"\n",
              "            title=\"Convert this dataframe to an interactive table.\"\n",
              "            style=\"display:none;\">\n",
              "\n",
              "  <svg xmlns=\"http://www.w3.org/2000/svg\" height=\"24px\" viewBox=\"0 -960 960 960\">\n",
              "    <path d=\"M120-120v-720h720v720H120Zm60-500h600v-160H180v160Zm220 220h160v-160H400v160Zm0 220h160v-160H400v160ZM180-400h160v-160H180v160Zm440 0h160v-160H620v160ZM180-180h160v-160H180v160Zm440 0h160v-160H620v160Z\"/>\n",
              "  </svg>\n",
              "    </button>\n",
              "\n",
              "  <style>\n",
              "    .colab-df-container {\n",
              "      display:flex;\n",
              "      gap: 12px;\n",
              "    }\n",
              "\n",
              "    .colab-df-convert {\n",
              "      background-color: #E8F0FE;\n",
              "      border: none;\n",
              "      border-radius: 50%;\n",
              "      cursor: pointer;\n",
              "      display: none;\n",
              "      fill: #1967D2;\n",
              "      height: 32px;\n",
              "      padding: 0 0 0 0;\n",
              "      width: 32px;\n",
              "    }\n",
              "\n",
              "    .colab-df-convert:hover {\n",
              "      background-color: #E2EBFA;\n",
              "      box-shadow: 0px 1px 2px rgba(60, 64, 67, 0.3), 0px 1px 3px 1px rgba(60, 64, 67, 0.15);\n",
              "      fill: #174EA6;\n",
              "    }\n",
              "\n",
              "    .colab-df-buttons div {\n",
              "      margin-bottom: 4px;\n",
              "    }\n",
              "\n",
              "    [theme=dark] .colab-df-convert {\n",
              "      background-color: #3B4455;\n",
              "      fill: #D2E3FC;\n",
              "    }\n",
              "\n",
              "    [theme=dark] .colab-df-convert:hover {\n",
              "      background-color: #434B5C;\n",
              "      box-shadow: 0px 1px 3px 1px rgba(0, 0, 0, 0.15);\n",
              "      filter: drop-shadow(0px 1px 2px rgba(0, 0, 0, 0.3));\n",
              "      fill: #FFFFFF;\n",
              "    }\n",
              "  </style>\n",
              "\n",
              "    <script>\n",
              "      const buttonEl =\n",
              "        document.querySelector('#df-1371ad1e-a8bd-434b-bf94-966c7b3d8c41 button.colab-df-convert');\n",
              "      buttonEl.style.display =\n",
              "        google.colab.kernel.accessAllowed ? 'block' : 'none';\n",
              "\n",
              "      async function convertToInteractive(key) {\n",
              "        const element = document.querySelector('#df-1371ad1e-a8bd-434b-bf94-966c7b3d8c41');\n",
              "        const dataTable =\n",
              "          await google.colab.kernel.invokeFunction('convertToInteractive',\n",
              "                                                    [key], {});\n",
              "        if (!dataTable) return;\n",
              "\n",
              "        const docLinkHtml = 'Like what you see? Visit the ' +\n",
              "          '<a target=\"_blank\" href=https://colab.research.google.com/notebooks/data_table.ipynb>data table notebook</a>'\n",
              "          + ' to learn more about interactive tables.';\n",
              "        element.innerHTML = '';\n",
              "        dataTable['output_type'] = 'display_data';\n",
              "        await google.colab.output.renderOutput(dataTable, element);\n",
              "        const docLink = document.createElement('div');\n",
              "        docLink.innerHTML = docLinkHtml;\n",
              "        element.appendChild(docLink);\n",
              "      }\n",
              "    </script>\n",
              "  </div>\n",
              "\n",
              "\n",
              "<div id=\"df-f204a28c-3abc-4e44-9a2e-9a5a850da871\">\n",
              "  <button class=\"colab-df-quickchart\" onclick=\"quickchart('df-f204a28c-3abc-4e44-9a2e-9a5a850da871')\"\n",
              "            title=\"Suggest charts\"\n",
              "            style=\"display:none;\">\n",
              "\n",
              "<svg xmlns=\"http://www.w3.org/2000/svg\" height=\"24px\"viewBox=\"0 0 24 24\"\n",
              "     width=\"24px\">\n",
              "    <g>\n",
              "        <path d=\"M19 3H5c-1.1 0-2 .9-2 2v14c0 1.1.9 2 2 2h14c1.1 0 2-.9 2-2V5c0-1.1-.9-2-2-2zM9 17H7v-7h2v7zm4 0h-2V7h2v10zm4 0h-2v-4h2v4z\"/>\n",
              "    </g>\n",
              "</svg>\n",
              "  </button>\n",
              "\n",
              "<style>\n",
              "  .colab-df-quickchart {\n",
              "      --bg-color: #E8F0FE;\n",
              "      --fill-color: #1967D2;\n",
              "      --hover-bg-color: #E2EBFA;\n",
              "      --hover-fill-color: #174EA6;\n",
              "      --disabled-fill-color: #AAA;\n",
              "      --disabled-bg-color: #DDD;\n",
              "  }\n",
              "\n",
              "  [theme=dark] .colab-df-quickchart {\n",
              "      --bg-color: #3B4455;\n",
              "      --fill-color: #D2E3FC;\n",
              "      --hover-bg-color: #434B5C;\n",
              "      --hover-fill-color: #FFFFFF;\n",
              "      --disabled-bg-color: #3B4455;\n",
              "      --disabled-fill-color: #666;\n",
              "  }\n",
              "\n",
              "  .colab-df-quickchart {\n",
              "    background-color: var(--bg-color);\n",
              "    border: none;\n",
              "    border-radius: 50%;\n",
              "    cursor: pointer;\n",
              "    display: none;\n",
              "    fill: var(--fill-color);\n",
              "    height: 32px;\n",
              "    padding: 0;\n",
              "    width: 32px;\n",
              "  }\n",
              "\n",
              "  .colab-df-quickchart:hover {\n",
              "    background-color: var(--hover-bg-color);\n",
              "    box-shadow: 0 1px 2px rgba(60, 64, 67, 0.3), 0 1px 3px 1px rgba(60, 64, 67, 0.15);\n",
              "    fill: var(--button-hover-fill-color);\n",
              "  }\n",
              "\n",
              "  .colab-df-quickchart-complete:disabled,\n",
              "  .colab-df-quickchart-complete:disabled:hover {\n",
              "    background-color: var(--disabled-bg-color);\n",
              "    fill: var(--disabled-fill-color);\n",
              "    box-shadow: none;\n",
              "  }\n",
              "\n",
              "  .colab-df-spinner {\n",
              "    border: 2px solid var(--fill-color);\n",
              "    border-color: transparent;\n",
              "    border-bottom-color: var(--fill-color);\n",
              "    animation:\n",
              "      spin 1s steps(1) infinite;\n",
              "  }\n",
              "\n",
              "  @keyframes spin {\n",
              "    0% {\n",
              "      border-color: transparent;\n",
              "      border-bottom-color: var(--fill-color);\n",
              "      border-left-color: var(--fill-color);\n",
              "    }\n",
              "    20% {\n",
              "      border-color: transparent;\n",
              "      border-left-color: var(--fill-color);\n",
              "      border-top-color: var(--fill-color);\n",
              "    }\n",
              "    30% {\n",
              "      border-color: transparent;\n",
              "      border-left-color: var(--fill-color);\n",
              "      border-top-color: var(--fill-color);\n",
              "      border-right-color: var(--fill-color);\n",
              "    }\n",
              "    40% {\n",
              "      border-color: transparent;\n",
              "      border-right-color: var(--fill-color);\n",
              "      border-top-color: var(--fill-color);\n",
              "    }\n",
              "    60% {\n",
              "      border-color: transparent;\n",
              "      border-right-color: var(--fill-color);\n",
              "    }\n",
              "    80% {\n",
              "      border-color: transparent;\n",
              "      border-right-color: var(--fill-color);\n",
              "      border-bottom-color: var(--fill-color);\n",
              "    }\n",
              "    90% {\n",
              "      border-color: transparent;\n",
              "      border-bottom-color: var(--fill-color);\n",
              "    }\n",
              "  }\n",
              "</style>\n",
              "\n",
              "  <script>\n",
              "    async function quickchart(key) {\n",
              "      const quickchartButtonEl =\n",
              "        document.querySelector('#' + key + ' button');\n",
              "      quickchartButtonEl.disabled = true;  // To prevent multiple clicks.\n",
              "      quickchartButtonEl.classList.add('colab-df-spinner');\n",
              "      try {\n",
              "        const charts = await google.colab.kernel.invokeFunction(\n",
              "            'suggestCharts', [key], {});\n",
              "      } catch (error) {\n",
              "        console.error('Error during call to suggestCharts:', error);\n",
              "      }\n",
              "      quickchartButtonEl.classList.remove('colab-df-spinner');\n",
              "      quickchartButtonEl.classList.add('colab-df-quickchart-complete');\n",
              "    }\n",
              "    (() => {\n",
              "      let quickchartButtonEl =\n",
              "        document.querySelector('#df-f204a28c-3abc-4e44-9a2e-9a5a850da871 button');\n",
              "      quickchartButtonEl.style.display =\n",
              "        google.colab.kernel.accessAllowed ? 'block' : 'none';\n",
              "    })();\n",
              "  </script>\n",
              "</div>\n",
              "    </div>\n",
              "  </div>\n"
            ],
            "text/plain": [
              "   log_price  property_type  room_type  accommodates  bathrooms  bed_type  \\\n",
              "0   5.010635              0          0             3        1.0         4   \n",
              "1   5.129899              0          0             7        1.0         4   \n",
              "2   4.976734              0          0             5        1.0         4   \n",
              "3   6.620073             17          0             4        1.0         4   \n",
              "4   4.744932              0          0             2        1.0         4   \n",
              "\n",
              "   cancellation_policy  cleaning_fee  city  instant_bookable  \\\n",
              "0                    2             1     4                 0   \n",
              "1                    2             1     4                 1   \n",
              "2                    1             1     4                 1   \n",
              "3                    0             1     5                 0   \n",
              "4                    1             1     2                 1   \n",
              "\n",
              "   number_of_reviews  review_scores_rating  bedrooms  beds  wireless_internet  \\\n",
              "0                  2              1.000000       1.0   1.0                  1   \n",
              "1                  6              0.930000       3.0   3.0                  1   \n",
              "2                 10              0.920000       1.0   3.0                  1   \n",
              "3                  0              0.940674       2.0   2.0                  1   \n",
              "4                  4              0.400000       0.0   1.0                  1   \n",
              "\n",
              "   kitchen  heating  essentials  smoke_detector  air_conditioning  tv  \n",
              "0        1        1           1               0                 1   0  \n",
              "1        1        1           1               1                 1   0  \n",
              "2        1        1           1               1                 1   1  \n",
              "3        1        1           1               1                 0   1  \n",
              "4        1        1           1               1                 1   1  "
            ]
          },
          "execution_count": 21,
          "metadata": {},
          "output_type": "execute_result"
        }
      ],
      "source": [
        "# Encoding the categorical variables using LabelEncoder\n",
        "le = LabelEncoder()\n",
        "df_encoded = df.copy()  # Create a copy of the DataFrame to avoid modifying the original data\n",
        "\n",
        "for col in df.select_dtypes(include=['object','bool']):\n",
        "    df_encoded[col] = le.fit_transform(df[col])\n",
        "\n",
        "for col in df_test.select_dtypes(include=['object', 'bool']):\n",
        "     df_test[col] = le.fit_transform(df_test[col])\n",
        "\n",
        "df_encoded.head()"
      ]
    },
    {
      "cell_type": "code",
      "execution_count": null,
      "metadata": {
        "id": "jTpIUdzgfYAN"
      },
      "outputs": [],
      "source": [
        "#splitting train dataset to validate\n",
        "df_train, df_test_cv  = train_test_split(df_encoded,test_size=0.25,random_state = 101)"
      ]
    },
    {
      "cell_type": "markdown",
      "metadata": {
        "id": "HX0AENwSkQRJ"
      },
      "source": [
        "# **Model Training**"
      ]
    },
    {
      "cell_type": "code",
      "execution_count": null,
      "metadata": {
        "colab": {
          "base_uri": "https://localhost:8080/"
        },
        "id": "gdegQjjJfYAO",
        "outputId": "8fb9b689-a77f-477b-d751-bb5ea7396e8a"
      },
      "outputs": [
        {
          "name": "stdout",
          "output_type": "stream",
          "text": [
            "[0.52964899 0.52537719 0.53143671 0.54001691 0.53634739]\n",
            "0.5325493588216463\n",
            "MSE:  -0.3695813195355043\n"
          ]
        }
      ],
      "source": [
        "# Linear Regression\n",
        "lin_reg = LinearRegression()\n",
        "X=df_train.drop(['log_price'],axis=1)\n",
        "Y=df_train['log_price']\n",
        "kf = KFold(n_splits=5, shuffle=True, random_state = 101)\n",
        "\n",
        "print(cross_val_score(lin_reg, X, Y, # estimator, features, target\n",
        "                cv=5, # number of folds\n",
        "                scoring='r2'))\n",
        "\n",
        "print(np.mean(cross_val_score(lin_reg, X, Y, cv=kf, scoring='r2')))\n",
        "print(f\"MSE:  {np.mean(cross_val_score(lin_reg, X, Y, cv=kf, scoring='neg_mean_absolute_error'))}\")\n"
      ]
    },
    {
      "cell_type": "code",
      "execution_count": null,
      "metadata": {
        "colab": {
          "base_uri": "https://localhost:8080/"
        },
        "id": "gUaqcopofYAO",
        "outputId": "f9694cc9-d271-46ab-faf9-2f3e097bcd03"
      },
      "outputs": [
        {
          "name": "stdout",
          "output_type": "stream",
          "text": [
            "[0.62305328 0.60855824 0.62131281 0.63034473 0.61585052]\n",
            "0.6191195616273755\n",
            "MSE:  -0.33140392412074593\n"
          ]
        }
      ],
      "source": [
        "#XGBRegressor\n",
        "lm_xgb = xgb.XGBRegressor()\n",
        "\n",
        "print(cross_val_score(lm_xgb, X, Y, # estimator, features, target\n",
        "                cv=5, # number of folds\n",
        "                scoring='r2'))\n",
        "\n",
        "print(np.mean(cross_val_score(lm_xgb, X, Y, cv=kf, scoring='r2')))\n",
        "print(f\"MSE:  {np.mean(cross_val_score(lm_xgb, X, Y, cv=kf, scoring='neg_mean_absolute_error'))}\")"
      ]
    },
    {
      "cell_type": "code",
      "execution_count": null,
      "metadata": {
        "colab": {
          "base_uri": "https://localhost:8080/"
        },
        "id": "LIh3m5NlfYAP",
        "outputId": "b9d9a504-7cdd-46e4-cd7f-021c4ee656c8"
      },
      "outputs": [
        {
          "name": "stdout",
          "output_type": "stream",
          "text": [
            "[0.52965172 0.52538158 0.53143969 0.5400118  0.53634294]\n",
            "0.5325495531899367\n",
            "MSE:  -0.3695820378069582\n"
          ]
        }
      ],
      "source": [
        "#Ridge\n",
        "lm_reg = Ridge(alpha=1)\n",
        "\n",
        "print(cross_val_score(lm_reg, X, Y, # estimator, features, target\n",
        "                cv=5, # number of folds\n",
        "                scoring='r2'))\n",
        "\n",
        "print(np.mean(cross_val_score(lm_reg, X, Y, cv=kf, scoring='r2')))\n",
        "print(f\"MSE:  {np.mean(cross_val_score(lm_reg, X, Y, cv=kf, scoring='neg_mean_absolute_error'))}\")\n"
      ]
    },
    {
      "cell_type": "code",
      "execution_count": 3,
      "metadata": {},
      "outputs": [],
      "source": [
        "# best features to use\n",
        "df = pd.read_csv('Data/cleaned_train_2.csv')\n",
        "X = df.drop(columns=['log_price'])  # Features\n",
        "y = df['log_price']  # Target variable\n",
        "\n",
        "#Split the data into training and testing sets\n",
        "X_train, X_test2, y_train, y_test2 = train_test_split(X, y, test_size=0.2, random_state=42)\n",
        "\n",
        "# Let's assume you have already loaded and split your data into X_train, X_test, y_train, y_test\n",
        "\n",
        "# Define a list of models to try\n",
        "models = {\n",
        "    \"Linear Regression\": LinearRegression(),\n",
        "    \"Random Forest Regressor\": RandomForestRegressor(),\n",
        "    \"Gradient Boosting Regressor\": GradientBoostingRegressor(),\n",
        "    \"Support Vector Regressor\": SVR(),\n",
        "    \"XGBoost Regressor\": XGBRegressor() # highest r2 score\n",
        "}\n",
        "\n",
        "# Train and evaluate each model\n",
        "results = {}\n",
        "for name, model in models.items():\n",
        "    # Train the model\n",
        "    model.fit(X_train, y_train)\n",
        "    \n",
        "    \n",
        "\n",
        "# Display the results\n",
        "# results_df = pd.DataFrame(results)\n",
        "# print(results_df)"
      ]
    },
    {
      "cell_type": "markdown",
      "metadata": {
        "id": "v87z8PZbkugS"
      },
      "source": [
        "# **Results and Evaluation of Models Predictions**"
      ]
    },
    {
      "cell_type": "code",
      "execution_count": 5,
      "metadata": {
        "id": "ESLa-iFBlNx2"
      },
      "outputs": [],
      "source": [
        "def show_metrics(prediction_test, y_test):\n",
        "    MAE = round(metrics.mean_absolute_error(y_test, prediction_test), 2)\n",
        "    MSE = round(metrics.mean_squared_error(y_test, prediction_test), 2)\n",
        "    r2_score = round(metrics.r2_score(y_test, prediction_test),2)\n",
        "    print(\"MAE: \", MAE)\n",
        "    print(\"MSE: \", MSE)\n",
        "    print(\"R2: \", r2_score)"
      ]
    },
    {
      "cell_type": "code",
      "execution_count": null,
      "metadata": {
        "colab": {
          "base_uri": "https://localhost:8080/"
        },
        "id": "wD5DH3Q633LI",
        "outputId": "2851f337-2152-4ed1-961d-18dc05b41385"
      },
      "outputs": [
        {
          "name": "stdout",
          "output_type": "stream",
          "text": [
            "Metrics for Linear Regression:\n",
            "MAE:  0.37\n",
            "MSE:  0.24\n",
            "R2:  0.54\n",
            "\n",
            "Metrics for XGBoostRegressor:\n",
            "MAE:  0.33\n",
            "MSE:  0.19\n",
            "R2:  0.63\n",
            "\n",
            "Metrics for Ridge Regression:\n",
            "MAE:  0.37\n",
            "MSE:  0.24\n",
            "R2:  0.54\n"
          ]
        }
      ],
      "source": [
        "# Prepare the test dataset\n",
        "X_test = df_test_cv.drop(['log_price'], axis=1)\n",
        "y_test = df_test_cv['log_price']\n",
        "\n",
        "# Train Linear Regression model\n",
        "lin_reg.fit(X, Y)\n",
        "prediction_test_lin_reg = lin_reg.predict(X_test)\n",
        "# prediction_train_lin_reg = lin_reg.predict(X)\n",
        "\n",
        "# Train XGBoostRegressor model\n",
        "lm_xgb.fit(X, Y)\n",
        "prediction_test_lm_xgb = lm_xgb.predict(X_test)\n",
        "# prediction_train_lm_xgb = lm_xgb.predict(X)\n",
        "\n",
        "# Train Ridge Regression model\n",
        "lm_reg.fit(X, Y)\n",
        "prediction_test_lm_reg = lm_reg.predict(X_test)\n",
        "\n",
        "# prediction_train_lm_reg = lm_reg.predict(X)\n",
        "\n",
        "# Call show_metrics function for each model\n",
        "print(\"Metrics for Linear Regression:\")\n",
        "show_metrics(prediction_test_lin_reg, y_test)\n",
        "\n",
        "print(\"\\nMetrics for XGBoostRegressor:\")\n",
        "show_metrics(prediction_test_lm_xgb, y_test)\n",
        "\n",
        "print(\"\\nMetrics for Ridge Regression:\")\n",
        "show_metrics(prediction_test_lm_reg, y_test)\n"
      ]
    },
    {
      "cell_type": "code",
      "execution_count": 6,
      "metadata": {},
      "outputs": [
        {
          "name": "stdout",
          "output_type": "stream",
          "text": [
            "Metrics for Linear Regression:\n",
            "MAE:  0.36\n",
            "MSE:  0.23\n",
            "R2:  0.56\n",
            "Metrics for Random Forest Regressor:\n",
            "MAE:  0.28\n",
            "MSE:  0.15\n",
            "R2:  0.71\n",
            "Metrics for Gradient Boosting Regressor:\n",
            "MAE:  0.3\n",
            "MSE:  0.17\n",
            "R2:  0.67\n",
            "Metrics for Support Vector Regressor:\n",
            "MAE:  0.35\n",
            "MSE:  0.23\n",
            "R2:  0.55\n",
            "Metrics for XGBoost Regressor:\n",
            "MAE:  0.28\n",
            "MSE:  0.15\n",
            "R2:  0.71\n"
          ]
        }
      ],
      "source": [
        "for name, model in models.items():\n",
        "    y_pred = model.predict(X_test2)\n",
        "    print(f\"Metrics for {name}:\")\n",
        "    show_metrics(y_pred, y_test2)\n",
        "\n"
      ]
    },
    {
      "cell_type": "code",
      "execution_count": null,
      "metadata": {
        "colab": {
          "base_uri": "https://localhost:8080/"
        },
        "id": "lNnLIY6c8ywr",
        "outputId": "cfeb6b89-fc6c-4806-ac55-7c9b296e9a12"
      },
      "outputs": [
        {
          "name": "stdout",
          "output_type": "stream",
          "text": [
            "[ 73.614845 192.89307  172.71729   86.35676   67.329155  75.410324\n",
            "  67.43519  214.0124   126.80735   74.93805 ]\n"
          ]
        }
      ],
      "source": [
        "# print the price prediction instead of log_price prediction for prediction_test_lm_xgb ( subset of train data)\n",
        "prediction_test_lm_xgb = np.exp(prediction_test_lm_xgb)\n",
        "print(prediction_test_lm_xgb[0:10])\n"
      ]
    },
    {
      "cell_type": "code",
      "execution_count": null,
      "metadata": {
        "colab": {
          "base_uri": "https://localhost:8080/"
        },
        "id": "lGXu8rt_1u5e",
        "outputId": "a08c7d5e-c737-4bd2-acc2-78734804258d"
      },
      "outputs": [
        {
          "name": "stdout",
          "output_type": "stream",
          "text": [
            "[ 63.819683 148.76735   95.89687  142.62563  169.69913   91.984375\n",
            " 230.80785  192.01476  181.6435    66.80735 ]\n"
          ]
        }
      ],
      "source": [
        "# User input prediction ( user should put input in test.csv file)\n",
        "predictions = np.exp(lm_xgb.predict(df_test))\n",
        "print(predictions[0:10])\n"
      ]
    }
  ],
  "metadata": {
    "colab": {
      "provenance": []
    },
    "kernelspec": {
      "display_name": "Python 3",
      "language": "python",
      "name": "python3"
    },
    "language_info": {
      "codemirror_mode": {
        "name": "ipython",
        "version": 3
      },
      "file_extension": ".py",
      "mimetype": "text/x-python",
      "name": "python",
      "nbconvert_exporter": "python",
      "pygments_lexer": "ipython3",
      "version": "3.10.11"
    }
  },
  "nbformat": 4,
  "nbformat_minor": 0
}
